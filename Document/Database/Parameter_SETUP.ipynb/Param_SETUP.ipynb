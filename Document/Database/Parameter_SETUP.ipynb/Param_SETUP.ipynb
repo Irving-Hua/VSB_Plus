{
 "metadata": {
  "language_info": {
   "codemirror_mode": {
    "name": "ipython",
    "version": 3
   },
   "file_extension": ".py",
   "mimetype": "text/x-python",
   "name": "python",
   "nbconvert_exporter": "python",
   "pygments_lexer": "ipython3",
   "version": "3.8.5-final"
  },
  "orig_nbformat": 2,
  "kernelspec": {
   "name": "python3",
   "display_name": "Python 3",
   "language": "python"
  }
 },
 "nbformat": 4,
 "nbformat_minor": 2,
 "cells": [
  {
   "source": [
    "## Param_SETUP.ipynb - Setup the some constant parameters for the course_info file.\n",
    "\n",
    "In this file, setup necessary parameters like the courses dictory or file name varible.\n",
    "\n",
    "The varible of faculty with course number is dictory that are divied into each term. eg. term1, term2...\n",
    "\n",
    "*** Note: The approved elective is signed as string varible 'Approved'.\n",
    "\n",
    "*** Note: The key element Approved in the dictory that means the list of the apporved elective course. ***"
   ],
   "cell_type": "markdown",
   "metadata": {}
  },
  {
   "cell_type": "code",
   "execution_count": 44,
   "metadata": {},
   "outputs": [
    {
     "output_type": "error",
     "ename": "SyntaxError",
     "evalue": "EOL while scanning string literal (<ipython-input-44-12906a51ea80>, line 62)",
     "traceback": [
      "\u001b[0;36m  File \u001b[0;32m\"<ipython-input-44-12906a51ea80>\"\u001b[0;36m, line \u001b[0;32m62\u001b[0m\n\u001b[0;31m    'term4':['CS 210',\"ENEL 281\",\"ENEL 282\",\"MATH 213\",\"STAT 289],\u001b[0m\n\u001b[0m                                                                  ^\u001b[0m\n\u001b[0;31mSyntaxError\u001b[0m\u001b[0;31m:\u001b[0m EOL while scanning string literal\n"
     ]
    }
   ],
   "source": [
    "# The Software Systems dict that is divied in term, each term has own courses\n",
    "ENSE_dict = {\n",
    "    'term1':['CHEM 104', 'ENGG 123', 'ENGG 140', 'MATH 110', 'MATH 122'],\n",
    "    'term2':['CS 110', 'ENGG 100', 'ENGL 100', 'MATH 111','PHYS 119'],\n",
    "    'term3':['CS 115', 'ENEL 280', 'ENEV 233', 'MATH 213','PHYS 112'],\n",
    "    'term4':['CS 210', 'ENEL 281', 'ENEL 282', 'MATH 213','STAT 289'],\n",
    "    'term5':['CS 215', 'CS 340', 'ENEL 384', 'ENSE 352','ENSE 374'],\n",
    "    'term6':['BUS 260', 'ECON 201', 'ENEL 380', 'ENSE 353','Approved'],\n",
    "    'term7':['ENEL 387', 'ENSE 470', 'ENSE 471', 'ENSE 475','Approved'],\n",
    "    'term8':['ENGG 303', 'ENSE 400', 'ENSE 472', 'Approved','Approved','Approved'],\n",
    "    'term9':['ENGG 401', 'ENSE 350', 'ENSE 477', 'Approved','Approved'],\n",
    "    'Approved':['ENSE 473', 'ENSE 474', 'ENSE 479', 'ENSE 480','ENSE 481','ENSE 482','ENSE 483','CS 205','CS 315','CS 330','CS 375','CS 405','CS 425','CS 427','ENEL 487','ENEL 489']\n",
    "}\n",
    "\n",
    "# The Petroleum System\n",
    "PSE_dict = {\n",
    "    'term1':['CHEM 104', 'ENGG 123', 'ENGG 140', 'MATH 110', 'MATH 122'],\n",
    "    'term2':['CS 110', 'ENGG 100', 'ENGL 100', 'MATH 111','PHYS 119'],\n",
    "    'term3':['ENEL 280','ENGG 141', 'ENPE 241','GEOL 102', 'MATH 217'],\n",
    "    'term4':['ECON 201', 'ENIN 233', 'ENPE 251', 'MATH 213','STAT 289'],\n",
    "    'term5':['CHEM 140', 'ENE 261', 'ENGG 303', 'ENPE 300','ENPE 360'],\n",
    "    'term6':['BUS 260', 'ENE 223', 'ENGG 330', 'ENIN 253','ENIN 350'],\n",
    "    'term7':['ENIN 355', 'ENPE 302', 'ENPE 370', 'GEOL 270','Approved'],\n",
    "    'term8':['ENPE 400', 'ENPE 410', 'ENPE 440', 'ENPE 450','Approved','Approved'],\n",
    "    'term9':['ENGG 401', 'ENPE 419', 'ENPE 486', 'Approved','Approved'],\n",
    "    'Approved':['ENPE 340', 'ENPE 380', 'ENPE 435', 'ENPE 448','ENPE 470','ENPE 475','ENPE 490','ENPE 491','ENPE 492','ENEV 422','ENIN 433','ENIN 453','ENIN 456']\n",
    "}\n",
    "\n",
    "# The Industrial Systems \n",
    "ISE_dict = {\n",
    "    'term1':['CHEM 104', 'ENGG 123', 'ENGG 140', 'MATH 110', 'MATH 122'],\n",
    "    'term2':['CS 110', 'ENGG 100', 'ENGL 100', 'MATH 111','PHYS 119'],\n",
    "    'term3':['ENEL 280','ENEV 223', 'ENGG 141','MATH 217', 'Approved'],\n",
    "    'term4':['ENIN 233', 'ENIN 241', 'MATH 213', 'STAT 289','CHEM 105'],\n",
    "    'term5':['Apporved', 'ENEV 261', 'ENGG 3330', 'ENIN 331','ENIN 343'],\n",
    "    'term6':['BUS 260', 'ECON 201', 'ENEL 380', 'ENIN 253','ENIN 350'],\n",
    "    'term7':['ENIN 355', 'ENIN 430', 'ENIN 440', 'ENIN 453','Approved'],\n",
    "    'term8':['BUS 250', 'ENGG 303', 'ENIN 340', 'ENIN 349','ENIN 400','ENIN 444'],\n",
    "    'term9':['BUS 210', 'ENGG 401', 'ENIN 413', 'ENIN 433','Approved'],\n",
    "    'Approved':['ENEL 389', 'ENEL 484', 'ENGG 411', 'ENIN 370','ENIN 445','ENIN 448','ENIN 456','ENIN 370','ENIN 445','ENIN 456','ENIN 448','ENIN 455']\n",
    "}\n",
    "\n",
    "# The Environmental Systems\n",
    "EVSE_dict = {\n",
    "    'term1':['CHEM 104', 'ENGG 123', 'ENGG 140', 'MATH 110', 'MATH 122'],\n",
    "    'term2':['CS 110', 'ENGG 100', 'ENGL 100', 'MATH 111','PHYS 119'],\n",
    "    'term3':['CHEM 140', 'ENEV 223',\"ENEV 372\",\"ENGG 141\",\"GEOL 102\"],\n",
    "    'term4':['ECON 201',\"ENIN 241\",\"Approved\",\"MATH 213\",'STAT 289'],\n",
    "    'term5':['BIOL 233',\"ENEV 261\",\"ENEV 321\",\"ENGG 330\",\"Approved\"],\n",
    "    'term6':['ENEV 281',\"ENEV 334\",\"ENEV 384\",\"ENEV 480\",\"ENIN 253\"],\n",
    "    'term7':['ENEV 360','ENEV 421','ENEV 422','ENEV 440','ENEV 462'],\n",
    "    'term8':['ENEV 363','ENEV 383','ENEV 400','ENEV 435','ENGG 303','Approved'],\n",
    "    'term9':['ENEV 415','ENEV 469','ENGG 401','Approved','Approved'],\n",
    "    'Approved':['ENEV 408','ENEV 445','ENEV 463','ENEV 463','ENEV 475','ENEV 484','ENGG 411','ENIN 350','ENIN 453','ENIN 455','ENPE 490','BUS 260','BUS 302','ENEL 280']\n",
    "}\n",
    "\n",
    "# The Electronic Systems\n",
    "ESE_dict = {\n",
    "    'term1':['CHEM 104', 'ENGG 123', 'ENGG 140', 'MATH 110', 'MATH 122'],\n",
    "    'term2':['CS 110', 'ENGG 100', 'ENGL 100', 'MATH 111','PHYS 119'],\n",
    "    'term3':['CS 115', 'ENEL 280',\"ENEV 223\",\"MATH 217\",\"PHYS 119\"],\n",
    "    'term4':['CS 210',\"ENEL 281\",\"ENEL 282\",\"MATH 213\",\"STAT 289],\n",
    "    'term5':['BUS 260',\"ENEL 383\",\"ENEL 384\",\"ENSE 352\",\"PHYS 201\"],\n",
    "    'term6':['BUS 210',\"CS 335\",\"ECON 201\",\"ENEL 380\",\"ENEL 390\"],\n",
    "    'term7':['ENEL 371','ENEL 387','ENSE 350','Approved','Approved'],\n",
    "    'term8':['ENEL 400','ENGG 303','Approved','Approved','Approved','Approved'],\n",
    "    'term9':['ENEL 417','ENGG 401','Approved','Approved','Approved'],\n",
    "    'Approved':['ENEL 389','ENEL 393','ENEL 395','ENEL 472','ENEL 482','ENEL 484','ENEL 487','ENEL 489','ENEL 494','ENEL 495','ENEV 261','ENIN 253','ENSE 481','CS 340','CS 350','CS 372','CS 375','ENEV 334','ENGG 411','ENIN 433','ENIN 440']\n",
    "}"
   ]
  },
  {
   "cell_type": "code",
   "execution_count": 31,
   "metadata": {},
   "outputs": [],
   "source": [
    "def insert(course_dict, faculty, course_num):\n",
    "    if faculty in course_dict.keys():\n",
    "        if not course_num in course_dict[faculty]:\n",
    "            course_dict[faculty].append(course_num)\n",
    "        return \n",
    "    else:\n",
    "        course_dict[faculty] = [course_num]"
   ]
  },
  {
   "cell_type": "code",
   "execution_count": 36,
   "metadata": {},
   "outputs": [],
   "source": [
    "def conver(course_dict, faculty_dict):\n",
    "    for key in faculty_dict.keys():\n",
    "        for short_name in faculty_dict[key]:\n",
    "            if short_name == 'Approved': continue\n",
    "            # print(short_name)\n",
    "            faculty = short_name.split(' ')[0]\n",
    "            course_num = short_name.split(' ')[1]\n",
    "            insert(course_dict, faculty, course_num)\n"
   ]
  },
  {
   "cell_type": "code",
   "execution_count": 39,
   "metadata": {},
   "outputs": [
    {
     "output_type": "execute_result",
     "data": {
      "text/plain": [
       "{'CHEM': ['104', '140'],\n",
       " 'ENGG': ['123', '140', '100', '303', '401', '141', '330'],\n",
       " 'MATH': ['110', '122', '111', '213', '217'],\n",
       " 'CS': ['110',\n",
       "  '115',\n",
       "  '210',\n",
       "  '215',\n",
       "  '340',\n",
       "  '205',\n",
       "  '315',\n",
       "  '330',\n",
       "  '375',\n",
       "  '405',\n",
       "  '425',\n",
       "  '427'],\n",
       " 'ENGL': ['100'],\n",
       " 'PHYS': ['119', '112'],\n",
       " 'ENEL': ['280', '281', '282', '384', '380', '387', '487', '489'],\n",
       " 'ENEV': ['233', '422'],\n",
       " 'STAT': ['289'],\n",
       " 'ENSE': ['352',\n",
       "  '374',\n",
       "  '353',\n",
       "  '470',\n",
       "  '471',\n",
       "  '475',\n",
       "  '400',\n",
       "  '472',\n",
       "  '350',\n",
       "  '477',\n",
       "  '473',\n",
       "  '474',\n",
       "  '479',\n",
       "  '480',\n",
       "  '481',\n",
       "  '482',\n",
       "  '483'],\n",
       " 'BUS': ['260'],\n",
       " 'ECON': ['201'],\n",
       " 'ENPE': ['241',\n",
       "  '251',\n",
       "  '300',\n",
       "  '360',\n",
       "  '302',\n",
       "  '370',\n",
       "  '400',\n",
       "  '410',\n",
       "  '440',\n",
       "  '450',\n",
       "  '419',\n",
       "  '486',\n",
       "  '340',\n",
       "  '380',\n",
       "  '435',\n",
       "  '448',\n",
       "  '470',\n",
       "  '475',\n",
       "  '490',\n",
       "  '491',\n",
       "  '492'],\n",
       " 'GEOL': ['102', '270'],\n",
       " 'ENIN': ['233', '253', '350', '355', '433', '453', '456'],\n",
       " 'ENE': ['261', '223']}"
      ]
     },
     "metadata": {},
     "execution_count": 39
    }
   ],
   "source": [
    "AllCourse_dict = dict()\n",
    "conver(AllCourse_dict, ENSE_dict)\n",
    "conver(AllCourse_dict, PSE_dict)\n",
    "AllCourse_dict"
   ]
  },
  {
   "cell_type": "code",
   "execution_count": null,
   "metadata": {},
   "outputs": [],
   "source": [
    "file_name"
   ]
  }
 ]
}